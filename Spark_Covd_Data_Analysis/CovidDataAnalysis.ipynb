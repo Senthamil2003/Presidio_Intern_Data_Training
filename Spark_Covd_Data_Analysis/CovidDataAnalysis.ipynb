{
 "cells": [
  {
   "cell_type": "code",
   "execution_count": 2,
   "id": "bae59548-f4ec-4a69-9f1d-bd2619eda13c",
   "metadata": {},
   "outputs": [],
   "source": [
    "from pyspark.sql import SparkSession\n",
    "from pyspark.sql.functions import col, lower, sum, mean\n",
    "from pyspark.sql.types import DoubleType\n",
    "import pyspark.sql.functions as F"
   ]
  },
  {
   "cell_type": "code",
   "execution_count": 3,
   "id": "d4567646-8083-4f5a-988c-c6111f897a68",
   "metadata": {},
   "outputs": [],
   "source": [
    "# Initialize Spark session\n",
    "spark = SparkSession.builder.appName(\"CovidDataAnalysis\").getOrCreate()\n",
    "\n",
    "# Read the CSV file into a DataFrame\n",
    "df = spark.read.csv('./complete.csv', header=True, inferSchema=True)\n"
   ]
  },
  {
   "cell_type": "code",
   "execution_count": 4,
   "id": "abb1cc50-7ab1-4014-b2c1-412da0687533",
   "metadata": {},
   "outputs": [
    {
     "name": "stdout",
     "output_type": "stream",
     "text": [
      "+------------------+\n",
      "|Name of State / UT|\n",
      "+------------------+\n",
      "|kerala            |\n",
      "|kerala            |\n",
      "|kerala            |\n",
      "|kerala            |\n",
      "|kerala            |\n",
      "|kerala            |\n",
      "|kerala            |\n",
      "|kerala            |\n",
      "|kerala            |\n",
      "|kerala            |\n",
      "|kerala            |\n",
      "|kerala            |\n",
      "|kerala            |\n",
      "|kerala            |\n",
      "|kerala            |\n",
      "|kerala            |\n",
      "|kerala            |\n",
      "|kerala            |\n",
      "|kerala            |\n",
      "|kerala            |\n",
      "+------------------+\n",
      "only showing top 20 rows\n",
      "\n"
     ]
    }
   ],
   "source": [
    "# Convert state names to lowercase\n",
    "df = df.withColumn('Name of State / UT', lower(col('Name of State / UT')))\n",
    "\n",
    "# Show the 'Name of State / UT' column\n",
    "df.select('Name of State / UT').show(truncate=False)\n"
   ]
  },
  {
   "cell_type": "code",
   "execution_count": 5,
   "id": "900cd6f1-c9e4-4374-8e29-1a503d9cd409",
   "metadata": {},
   "outputs": [
    {
     "name": "stdout",
     "output_type": "stream",
     "text": [
      "The day with the greatest number of COVID cases is: 2020-07-26 with 18366 cases.\n"
     ]
    }
   ],
   "source": [
    "# Group by date and sum the new cases\n",
    "max_cases_day = df.orderBy(col(\"New cases\").desc()).select(\"Date\", \"New cases\").first()\n",
    "print(f\"The day with the greatest number of COVID cases is: {max_cases_day['Date']} with {max_cases_day['New cases']} cases.\")"
   ]
  },
  {
   "cell_type": "code",
   "execution_count": 6,
   "id": "3f658166-eca5-4861-a865-2507d1a5c747",
   "metadata": {},
   "outputs": [
    {
     "name": "stdout",
     "output_type": "stream",
     "text": [
      "The state with the second-largest number of COVID cases is tamil nadu with 7847083.0 cases.\n"
     ]
    }
   ],
   "source": [
    "# Group by state and sum the total confirmed cases\n",
    "state_cases = df.groupBy('Name of State / UT').agg(sum('Total Confirmed cases').alias('Total Confirmed Cases'))\n",
    "\n",
    "# Get the state with the second-largest number of cases\n",
    "state_cases = state_cases.orderBy(col('Total Confirmed Cases').desc())\n",
    "second_largest_state_row = state_cases.collect()[1]  # Index 1 for the second-largest\n",
    "second_largest_state = second_largest_state_row['Name of State / UT']\n",
    "second_largest_cases = second_largest_state_row['Total Confirmed Cases']\n",
    "\n",
    "print(f\"The state with the second-largest number of COVID cases is {second_largest_state} with {second_largest_cases} cases.\")\n"
   ]
  },
  {
   "cell_type": "code",
   "execution_count": 7,
   "id": "5a0798c8-4d01-4321-861a-25349b0c24f0",
   "metadata": {},
   "outputs": [
    {
     "name": "stdout",
     "output_type": "stream",
     "text": [
      "The Union Territory with the least number of deaths is: union territory of ladakh with 0.0 deaths.\n"
     ]
    }
   ],
   "source": [
    "# Filter for Union Territories and find the one with the least number of deaths\n",
    "ut_df = df.filter(col(\"Name of State / UT\").contains(\"union territory\"))\n",
    "\n",
    "# Group by Union Territory and sum the deaths\n",
    "ut_deaths = ut_df.groupBy(\"Name of State / UT\").agg(sum(\"Death\").alias(\"Total Deaths\"))\n",
    "\n",
    "# Find the Union Territory with the least number of deaths\n",
    "ut_least_deaths_row = ut_deaths.orderBy(col(\"Total Deaths\")).first()\n",
    "ut_least_deaths = ut_least_deaths_row['Name of State / UT']\n",
    "least_deaths = ut_least_deaths_row['Total Deaths']\n",
    "\n",
    "print(f\"The Union Territory with the least number of deaths is: {ut_least_deaths} with {least_deaths} deaths.\")\n",
    "\n"
   ]
  },
  {
   "cell_type": "code",
   "execution_count": 8,
   "id": "1912a8a3-ae20-4a68-974e-589f8c955710",
   "metadata": {},
   "outputs": [
    {
     "name": "stdout",
     "output_type": "stream",
     "text": [
      "The state with the lowest Death to Total Confirmed cases ratio is: puducherry with a ratio of None.\n"
     ]
    }
   ],
   "source": [
    "# Calculate the Death to Total Confirmed cases ratio and find the state with the lowest ratio\n",
    "df = df.withColumn(\"DeathToConfirmedRatio\", col(\"Death\") / col(\"Total Confirmed cases\"))\n",
    "lowest_ratio_state = df.orderBy(col(\"DeathToConfirmedRatio\").asc()).select(\"Name of State / UT\", \"DeathToConfirmedRatio\").first()\n",
    "print(f\"The state with the lowest Death to Total Confirmed cases ratio is: {lowest_ratio_state['Name of State / UT']} with a ratio of {lowest_ratio_state['DeathToConfirmedRatio']}.\")\n"
   ]
  },
  {
   "cell_type": "code",
   "execution_count": 9,
   "id": "f89c602a-79ab-41cd-825f-a7e85048cd03",
   "metadata": {},
   "outputs": [
    {
     "name": "stdout",
     "output_type": "stream",
     "text": [
      "The month with the most new recovered cases was 2020-07 with 722983 recoveries.\n"
     ]
    }
   ],
   "source": [
    "# Convert Date column to date format and extract month\n",
    "df = df.withColumn('Date', F.to_date(col('Date'), 'yyyy-MM-dd'))\n",
    "df = df.withColumn('Month', F.date_format(col('Date'), 'yyyy-MM'))\n",
    "\n",
    "# Group by month and sum the new recovered cases\n",
    "monthly_recovered = df.groupBy('Month').agg(sum('New recovered').alias('Total New Recovered'))\n",
    "\n",
    "max_recovered_month_row = monthly_recovered.orderBy(col('Total New Recovered').desc()).first()\n",
    "max_recovered_month = max_recovered_month_row['Month']\n",
    "max_recovered = max_recovered_month_row['Total New Recovered']\n",
    "\n",
    "print(f\"The month with the most new recovered cases was {max_recovered_month} with {max_recovered} recoveries.\")\n"
   ]
  }
 ],
 "metadata": {
  "kernelspec": {
   "display_name": "Python 3 (ipykernel)",
   "language": "python",
   "name": "python3"
  },
  "language_info": {
   "codemirror_mode": {
    "name": "ipython",
    "version": 3
   },
   "file_extension": ".py",
   "mimetype": "text/x-python",
   "name": "python",
   "nbconvert_exporter": "python",
   "pygments_lexer": "ipython3",
   "version": "3.12.4"
  }
 },
 "nbformat": 4,
 "nbformat_minor": 5
}
